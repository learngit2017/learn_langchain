{
 "cells": [
  {
   "cell_type": "markdown",
   "source": [
    "**RunnableParallel** can be used to run multiple Runnables in parallel and return their output as dictionary. "
   ],
   "metadata": {
    "collapsed": false
   },
   "id": "29fa79378409a492"
  },
  {
   "cell_type": "code",
   "execution_count": 1,
   "outputs": [
    {
     "data": {
      "text/plain": "{'joke': AIMessage(content=\"Why don't bears like fast food?\\n\\nBecause they can't bear the thought of eating something that runs faster than they do!\", response_metadata={'token_usage': {'completion_tokens': 25, 'prompt_tokens': 13, 'total_tokens': 38}, 'model_name': 'gpt-3.5-turbo', 'system_fingerprint': '', 'finish_reason': 'stop', 'logprobs': None}, id='run-ff2daef3-321f-40b6-998a-a4d50ef3f12c-0'),\n 'poem': AIMessage(content=\"In forest's heart, where shadows dare,\\nA silent guardian, the bear, doth wear.\", response_metadata={'token_usage': {'completion_tokens': 27, 'prompt_tokens': 15, 'total_tokens': 42}, 'model_name': 'gpt-3.5-turbo', 'system_fingerprint': 'fp_4f0b692a78', 'finish_reason': 'stop', 'logprobs': None}, id='run-b7ae694f-4b42-48a6-acda-7551cd253679-0')}"
     },
     "execution_count": 1,
     "metadata": {},
     "output_type": "execute_result"
    }
   ],
   "source": [
    "from langchain_core.prompts import ChatPromptTemplate\n",
    "from langchain_core.runnables import RunnableParallel\n",
    "from langchain_openai import ChatOpenAI\n",
    "\n",
    "model = ChatOpenAI()\n",
    "joke_chain = ChatPromptTemplate.from_template(\"tell me a joke about {topic}\") | model\n",
    "poem_chain = ChatPromptTemplate.from_template(\"write a 2-line poem about {topic}\") | model\n",
    "\n",
    "# It runs two chain parallel. The output is a dictionary with the keys joke and poem\n",
    "map_chain = RunnableParallel(joke=joke_chain, poem=poem_chain)\n",
    "map_chain.invoke({\"topic\": \"bear\"})"
   ],
   "metadata": {
    "collapsed": false,
    "ExecuteTime": {
     "end_time": "2024-04-27T14:58:40.510408700Z",
     "start_time": "2024-04-27T14:58:33.406541300Z"
    }
   },
   "id": "e15d18a83985aace"
  },
  {
   "cell_type": "code",
   "execution_count": null,
   "outputs": [],
   "source": [],
   "metadata": {
    "collapsed": false
   },
   "id": "dbc1c00942bf1d9f"
  }
 ],
 "metadata": {
  "kernelspec": {
   "display_name": "Python 3",
   "language": "python",
   "name": "python3"
  },
  "language_info": {
   "codemirror_mode": {
    "name": "ipython",
    "version": 2
   },
   "file_extension": ".py",
   "mimetype": "text/x-python",
   "name": "python",
   "nbconvert_exporter": "python",
   "pygments_lexer": "ipython2",
   "version": "2.7.6"
  }
 },
 "nbformat": 4,
 "nbformat_minor": 5
}

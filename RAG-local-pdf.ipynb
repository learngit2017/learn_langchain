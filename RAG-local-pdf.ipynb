{
 "cells": [
  {
   "cell_type": "code",
   "execution_count": 2,
   "outputs": [
    {
     "data": {
      "text/plain": "{'input': 'how I can reset my password?',\n 'context': [Document(page_content='GPS Log Book – User Manual  www.gpslogbook.co.za  Page 20 of 21 \\n \\n8 Managing the Account  \\n8.1 Update Details  \\n8.1.1 Edit Personal Details  \\nOnce  logged in, it is possible to change the name, surname, contact number or email address of the user in the Update Details  menu under \\nAccount . Save changes by clicking on  the Save  button at the bottom of the page.   \\n8.1.1.1  Change Email Address  \\nIn order to change an email address , the user  will be required to enter and confirm the new email address before this will \\nbe changed. An email will be sent to the new email address to verify that the change is correct. An email confirming the \\nchange will also be sent to the old email address.  \\n8.1.2 Change Password  \\nTo chang e your login password go to the Update Details  page. Scroll down to the Reset Password section and enter the current password and the \\nnew password. Please remember to click Save  after the new password  has been entered .  \\nIf you have forgotten your password and cannot log in, go to the Login  page and hit the “Reset Password” link. Enter your username (email address \\nused with your account) and hit the Reset button. A new password will be emailed to you. You should be able to  log in now using this password.  It \\nis recommended that you change your password back to something that is easier to remember.  \\n8.1.3 Settings  \\nIt is possible to  change the settings that are used to process trip data and display information about trips and zones that are created.  \\n8.1.3.1  Snapping Distance  \\nWhen a trip starts or ends just outside a zone , that zone will be assigned to the trip if it is within the “snapping distance”. \\nThis is useful when, for example,  you forget to plug your device in before you drive off  or the device takes too long to find a \\nsatellite which causes the trip to start just outside a known zone. You can change this zone by creating another zone at that  \\npoint or selected one of the other nearby zone (if any exist).  \\n8.1.3.2  Minimum Trip Time  \\nAny trips sho rter than this time period will not appear in the trip list. This could be caused by switching the car’s ignition on \\nand then immediately off again.  \\n8.1.3.3  Minimum Trip Distance  \\nAny trips shorter than this distance will not appear in the trip list.  \\n8.1.3.4  Nearby Zone Metres  \\nAny zone that falls within this  distance of a trip start or end point is considered a nearby zone. Only nearby zones are \\nshown as alternatives to snapped zones when editing a trip.  \\n8.1.4 Personal Selection  \\nThere are three additional preferences  that can b e updated . These include the following : \\n8.1.4.1  Receive Reminders  \\nWhen selected , a notification email will be sent when the recommended time limit for uploading data has expired . \\n8.1.4.2  Receive Newsletters  \\nWhen selected , the GPS Logbook  newsletter will be emailed to th e email address in the account. The newsletter contains \\ninformation about Special Offers, Industry developments , and the latest GPS Logbook news . \\n8.1.4.3  Open Webpage on Device Upload  \\nWhen selected, the trip list will be opened in the browser after the GPS Log Book device is plugged into the computer  and \\nhas successfully uploaded data. The software must have been downloaded in order for this to happen .', metadata={'source': './data/UserManual.pdf', 'page': 20}),\n  Document(page_content='GPS Log Book – User Manual  www.gpslogbook.co.za  Page 8 of 21 \\n \\n5.2. Once you click register your will see the page below. You can close this window and wait for your account validation email.  \\n \\n \\n \\n5.3. Once you receive your account validation email, click on the first link to validate your email address.   \\n \\n \\n \\n5.4. You are now read y to start using the system!  (Step 6 is not required!)', metadata={'source': './data/UserManual.pdf', 'page': 8}),\n  Document(page_content='SAMPLE User Manual', metadata={'source': './data/UserManual.pdf', 'page': 0}),\n  Document(page_content='GPS Log Book – User Manual  www.gpslogbook.co.za  Page 9 of 21 \\n \\n6. If you already have an account , fill in your login details and click on the Register button.  (If you performed step 5 , skip this step)  \\n6.1. You will now see the Register Device page like the picture  below . \\n \\n \\n6.2. You can now give your device a name,  select an existing vehicle or create a new one, and enter  the optional tax details.  \\n6.3. Click the Register button to complete the process.', metadata={'source': './data/UserManual.pdf', 'page': 9})],\n 'answer': 'To reset your password, go to the Login page and click on the \"Reset Password\" link. Enter your username (email address associated with your account) and hit the Reset button. A new password will be emailed to you, and you can use this new password to log in. It is recommended to change your password back to something easier to remember after logging in.'}"
     },
     "execution_count": 2,
     "metadata": {},
     "output_type": "execute_result"
    }
   ],
   "source": [
    "from langchain.chains.combine_documents import create_stuff_documents_chain\n",
    "from langchain_community.document_loaders import PyPDFLoader\n",
    "from langchain_core.prompts import ChatPromptTemplate\n",
    "from langchain_openai import ChatOpenAI\n",
    "\n",
    "loader = PyPDFLoader(\"./data/UserManual.pdf\")\n",
    "docs = loader.load()\n",
    "\n",
    "# create embedding\n",
    "from langchain_openai import OpenAIEmbeddings\n",
    "embeddings = OpenAIEmbeddings()\n",
    "\n",
    "# indexing\n",
    "from langchain_community.vectorstores import FAISS\n",
    "from langchain_text_splitters import RecursiveCharacterTextSplitter\n",
    "\n",
    "text_splitter = RecursiveCharacterTextSplitter()\n",
    "documents = text_splitter.split_documents(docs)\n",
    "vector = FAISS.from_documents(documents, embeddings)\n",
    "\n",
    "\n",
    "prompt = ChatPromptTemplate.from_template(\"\"\"Answer the following question based only on the provided context:\n",
    "\n",
    "<context>\n",
    "{context}\n",
    "</context>\n",
    "\n",
    "Question: ###{input}###\"\"\")\n",
    "\n",
    "llm = ChatOpenAI()\n",
    "\n",
    "document_chain = create_stuff_documents_chain(llm, prompt)\n",
    "\n",
    "from langchain.chains import create_retrieval_chain\n",
    "\n",
    "retriever = vector.as_retriever()\n",
    "retrieval_chain = create_retrieval_chain(retriever, document_chain)\n",
    "\n",
    "\n",
    "retrieval_chain.invoke({\"input\": \"how I can reset my password?\"})\n",
    "\n"
   ],
   "metadata": {
    "collapsed": false,
    "ExecuteTime": {
     "end_time": "2024-04-20T04:35:34.047670500Z",
     "start_time": "2024-04-20T04:35:21.279205400Z"
    }
   },
   "id": "612fde62c2a88ac3"
  },
  {
   "cell_type": "code",
   "execution_count": null,
   "outputs": [],
   "source": [],
   "metadata": {
    "collapsed": false
   },
   "id": "78836969d59337a7"
  }
 ],
 "metadata": {
  "kernelspec": {
   "display_name": "Python 3",
   "language": "python",
   "name": "python3"
  },
  "language_info": {
   "codemirror_mode": {
    "name": "ipython",
    "version": 2
   },
   "file_extension": ".py",
   "mimetype": "text/x-python",
   "name": "python",
   "nbconvert_exporter": "python",
   "pygments_lexer": "ipython2",
   "version": "2.7.6"
  }
 },
 "nbformat": 4,
 "nbformat_minor": 5
}
